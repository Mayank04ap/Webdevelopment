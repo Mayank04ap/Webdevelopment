{
 "cells": [
  {
   "cell_type": "markdown",
   "id": "342d9ae0-3a27-4c0b-846d-ebe92372cc91",
   "metadata": {},
   "source": [
    "Q-First Unique Character in a String\n",
    "Given a string s, find the first non-repeating character in it and return its index. If it does not exist, return -1."
   ]
  },
  {
   "cell_type": "code",
   "execution_count": 1,
   "id": "d56e7633-d273-4f3d-8315-f0a73a4032df",
   "metadata": {},
   "outputs": [],
   "source": [
    "def firstUniqChar(s):    \n",
    "    char_freq = {}   \n",
    "    for char in s:\n",
    "        char_freq[char] = char_freq.get(char, 0) + 1   \n",
    "    for i in range(len(s)):\n",
    "        if char_freq[s[i]] == 1:\n",
    "            return i  \n",
    "    return -1"
   ]
  },
  {
   "cell_type": "code",
   "execution_count": 3,
   "id": "778fccae-3034-48de-8b65-1569948b018a",
   "metadata": {},
   "outputs": [
    {
     "name": "stdout",
     "output_type": "stream",
     "text": [
      "0\n"
     ]
    }
   ],
   "source": [
    "s = \"leetcode\"\n",
    "print(firstUniqChar(s))"
   ]
  },
  {
   "cell_type": "code",
   "execution_count": 4,
   "id": "8f1d853b-de7a-4631-86aa-f5a0abc3e858",
   "metadata": {},
   "outputs": [
    {
     "name": "stdout",
     "output_type": "stream",
     "text": [
      "2\n"
     ]
    }
   ],
   "source": [
    "s = \"loveleetcode\"\n",
    "print(firstUniqChar(s))"
   ]
  },
  {
   "cell_type": "code",
   "execution_count": 5,
   "id": "b473d65f-c4cb-4f1c-9886-9de9ec9bcc1e",
   "metadata": {},
   "outputs": [
    {
     "name": "stdout",
     "output_type": "stream",
     "text": [
      "-1\n"
     ]
    }
   ],
   "source": [
    "s = \"aabb\"\n",
    "print(firstUniqChar(s))\n",
    "    "
   ]
  },
  {
   "cell_type": "code",
   "execution_count": null,
   "id": "3bef8dc9-79e8-431c-b8bd-439ee1bd18ce",
   "metadata": {},
   "outputs": [],
   "source": []
  }
 ],
 "metadata": {
  "kernelspec": {
   "display_name": "Python 3 (ipykernel)",
   "language": "python",
   "name": "python3"
  },
  "language_info": {
   "codemirror_mode": {
    "name": "ipython",
    "version": 3
   },
   "file_extension": ".py",
   "mimetype": "text/x-python",
   "name": "python",
   "nbconvert_exporter": "python",
   "pygments_lexer": "ipython3",
   "version": "3.10.8"
  }
 },
 "nbformat": 4,
 "nbformat_minor": 5
}
