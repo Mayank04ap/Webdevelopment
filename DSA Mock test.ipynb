{
 "cells": [
  {
   "cell_type": "markdown",
   "id": "0e61062f-3647-45b0-900f-33c50a1b7466",
   "metadata": {},
   "source": [
    "Q-1 Given an integer array nums, move all 0's to the end of it while maintaining the relative order of the non-zero elements.\n",
    "Note that you must do this in-place without making a copy of the array."
   ]
  },
  {
   "cell_type": "code",
   "execution_count": 1,
   "id": "d1aa983c-1c99-4e07-9bc5-d6d6ebf1c768",
   "metadata": {},
   "outputs": [],
   "source": [
    "def moveZeroes(nums):   \n",
    "    left = 0 \n",
    "    right = 0  \n",
    "    \n",
    "    while right < len(nums):        \n",
    "        if nums[right] != 0:          \n",
    "            nums[left], nums[right] = nums[right], nums[left]            \n",
    "            left += 1        \n",
    "        right += 1\n",
    "\n",
    "\n"
   ]
  },
  {
   "cell_type": "code",
   "execution_count": 2,
   "id": "28afa2e2-2caf-459f-ad3b-0953d8a1f825",
   "metadata": {},
   "outputs": [
    {
     "name": "stdout",
     "output_type": "stream",
     "text": [
      "[1, 3, 12, 0, 0]\n"
     ]
    }
   ],
   "source": [
    "nums = [0, 1, 0, 3, 12]\n",
    "moveZeroes(nums)\n",
    "print(nums)"
   ]
  },
  {
   "cell_type": "code",
   "execution_count": null,
   "id": "c36a6d4d-58da-4f43-b17a-3d4190c1deb1",
   "metadata": {},
   "outputs": [],
   "source": []
  }
 ],
 "metadata": {
  "kernelspec": {
   "display_name": "Python 3 (ipykernel)",
   "language": "python",
   "name": "python3"
  },
  "language_info": {
   "codemirror_mode": {
    "name": "ipython",
    "version": 3
   },
   "file_extension": ".py",
   "mimetype": "text/x-python",
   "name": "python",
   "nbconvert_exporter": "python",
   "pygments_lexer": "ipython3",
   "version": "3.10.8"
  }
 },
 "nbformat": 4,
 "nbformat_minor": 5
}
